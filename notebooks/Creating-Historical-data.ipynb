{
 "cells": [
  {
   "cell_type": "code",
   "execution_count": null,
   "id": "8f86a1e9",
   "metadata": {},
   "outputs": [],
   "source": [
    "import pandas as pd\n",
    "import numpy as np\n",
    "import matplotlib.pyplot as plt\n",
    "import seaborn as sns\n",
    "import dask.dataframe as dd"
   ]
  },
  {
   "cell_type": "code",
   "execution_count": null,
   "id": "d8f0b314",
   "metadata": {},
   "outputs": [],
   "source": [
    "# paths for the three dfs\n",
    "\n",
    "df_jan_path = \"/Users/aniket_ml/Documents/data/yellow_tripdata_2016-01.csv\"\n",
    "df_feb_path = \"/Users/aniket_ml/Documents/data/yellow_tripdata_2016-02.csv\"\n",
    "df_mar_path = \"/Users/aniket_ml/Documents/data/yellow_tripdata_2016-03.csv\"\n",
    "\n",
    "# load the dataframes\n",
    "\n",
    "df_jan = dd.read_csv(df_jan_path, assume_missing=True, usecols= ['trip_distance', 'tpep_pickup_datetime', 'pickup_longitude',\n",
    "       'pickup_latitude','dropoff_longitude', 'dropoff_latitude', 'fare_amount'], parse_dates=[\"tpep_pickup_datetime\"])\n",
    "\n",
    "df_feb = dd.read_csv(df_feb_path, assume_missing=True, usecols= ['trip_distance', 'tpep_pickup_datetime', 'pickup_longitude',\n",
    "       'pickup_latitude','dropoff_longitude', 'dropoff_latitude', 'fare_amount'], parse_dates=[\"tpep_pickup_datetime\"])\n",
    "\n",
    "\n",
    "df_mar = dd.read_csv(df_mar_path, assume_missing=True, usecols= ['trip_distance', 'tpep_pickup_datetime', 'pickup_longitude',\n",
    "       'pickup_latitude','dropoff_longitude', 'dropoff_latitude', 'fare_amount'], parse_dates=[\"tpep_pickup_datetime\"])\n"
   ]
  },
  {
   "cell_type": "code",
   "execution_count": null,
   "id": "3e09a31d",
   "metadata": {},
   "outputs": [],
   "source": [
    "df_jan"
   ]
  },
  {
   "cell_type": "code",
   "execution_count": null,
   "id": "20c5f006",
   "metadata": {},
   "outputs": [],
   "source": [
    "# concat the three dataframes as one\n",
    "\n",
    "df_final = dd.concat([df_jan, df_feb, df_mar], axis=0)"
   ]
  },
  {
   "cell_type": "code",
   "execution_count": null,
   "id": "12ce063e",
   "metadata": {},
   "outputs": [],
   "source": [
    "df_final"
   ]
  },
  {
   "cell_type": "code",
   "execution_count": null,
   "id": "ea046f07",
   "metadata": {},
   "outputs": [],
   "source": [
    "# set the values of coordinates\n",
    "\n",
    "min_latitude = 40.60\n",
    "max_latitude = 40.85\n",
    "\n",
    "min_longitude = -74.05\n",
    "max_longitude = -73.70\n",
    "\n",
    "min_fare_amount_val = 0.50\n",
    "max_fare_amount_val = 81.0\n",
    "\n",
    "min_trip_distance_val = 0.25\n",
    "max_trip_distance_val = 24.43"
   ]
  },
  {
   "cell_type": "code",
   "execution_count": null,
   "id": "8990b19b",
   "metadata": {},
   "outputs": [],
   "source": [
    "# select data points within the given ranges\n",
    "\n",
    "df_final = df_final.loc[(df_final[\"pickup_latitude\"].between(min_latitude, max_latitude, inclusive=\"both\")) & \n",
    "(df_final[\"pickup_longitude\"].between(min_longitude, max_longitude, inclusive=\"both\")) & \n",
    "(df_final[\"dropoff_latitude\"].between(min_latitude, max_latitude, inclusive=\"both\")) & \n",
    "(df_final[\"dropoff_longitude\"].between(min_longitude, max_longitude, inclusive=\"both\")), :]"
   ]
  },
  {
   "cell_type": "code",
   "execution_count": null,
   "id": "1766a598",
   "metadata": {},
   "outputs": [],
   "source": [
    "# select data points within the given ranges\n",
    "\n",
    "df_final = df_final.loc[(df_final[\"fare_amount\"].between(min_fare_amount_val,max_fare_amount_val,inclusive=\"both\")) & \n",
    "(df_final[\"trip_distance\"].between(min_trip_distance_val,max_trip_distance_val,inclusive=\"both\"))]\n"
   ]
  },
  {
   "cell_type": "code",
   "execution_count": null,
   "id": "d04cbc95",
   "metadata": {},
   "outputs": [],
   "source": [
    "# drop columns from the data\n",
    "\n",
    "df_final = df_final.drop(columns=['trip_distance', 'dropoff_longitude', 'dropoff_latitude', 'fare_amount'])\n"
   ]
  },
  {
   "cell_type": "code",
   "execution_count": null,
   "id": "b3e5b3a7",
   "metadata": {},
   "outputs": [],
   "source": [
    "df_final"
   ]
  },
  {
   "cell_type": "code",
   "execution_count": null,
   "id": "f5d39572",
   "metadata": {},
   "outputs": [],
   "source": [
    "df_final = df_final.compute()"
   ]
  },
  {
   "cell_type": "code",
   "execution_count": null,
   "id": "8a95b7b3",
   "metadata": {},
   "outputs": [],
   "source": [
    "# save the dataframe\n",
    "\n",
    "save_path = \"../data/interim/processing_data.csv\"\n",
    "\n",
    "df_final.to_csv(save_path, index=False)"
   ]
  },
  {
   "cell_type": "code",
   "execution_count": null,
   "id": "936b0d75",
   "metadata": {},
   "outputs": [],
   "source": [
    "from sklearn.cluster import MiniBatchKMeans\n",
    "from sklearn.preprocessing import StandardScaler"
   ]
  },
  {
   "cell_type": "code",
   "execution_count": null,
   "id": "158c8446",
   "metadata": {},
   "outputs": [],
   "source": [
    "data_path = \"../data/interim/processing_data.csv\""
   ]
  },
  {
   "cell_type": "code",
   "execution_count": null,
   "id": "019054bd",
   "metadata": {},
   "outputs": [],
   "source": [
    "df_reader = pd.read_csv(data_path, chunksize=100000, usecols=[\"pickup_latitude\",\"pickup_longitude\"])"
   ]
  },
  {
   "cell_type": "code",
   "execution_count": null,
   "id": "c3f06417",
   "metadata": {},
   "outputs": [],
   "source": [
    "# train the standard scaler\n",
    "\n",
    "scaler = StandardScaler()\n",
    "\n",
    "for chunk in df_reader:\n",
    "    # fit the scaler\n",
    "    scaler.partial_fit(chunk)"
   ]
  },
  {
   "cell_type": "code",
   "execution_count": null,
   "id": "8c0aeef7",
   "metadata": {},
   "outputs": [],
   "source": [
    "scaler"
   ]
  },
  {
   "cell_type": "code",
   "execution_count": null,
   "id": "0610bdd8",
   "metadata": {},
   "outputs": [],
   "source": [
    "df_reader = pd.read_csv(data_path, chunksize=100000, usecols=[\"pickup_latitude\",\"pickup_longitude\"])\n"
   ]
  },
  {
   "cell_type": "code",
   "execution_count": null,
   "id": "d558c545",
   "metadata": {},
   "outputs": [],
   "source": [
    "# train the model\n",
    "\n",
    "mini_batch = MiniBatchKMeans(n_clusters=30, n_init=10, random_state=42)\n",
    "\n",
    "for chunk in df_reader:\n",
    "    # scale the chunk\n",
    "    scaled_chunk = scaler.transform(chunk)\n",
    "    # train the model\n",
    "    mini_batch.partial_fit(scaled_chunk)"
   ]
  },
  {
   "cell_type": "code",
   "execution_count": null,
   "id": "3cfba6e3",
   "metadata": {},
   "outputs": [],
   "source": [
    "mini_batch"
   ]
  },
  {
   "cell_type": "code",
   "execution_count": null,
   "id": "ee82c0e7",
   "metadata": {},
   "outputs": [],
   "source": [
    "# centroids of the model\n",
    "\n",
    "mini_batch.cluster_centers_"
   ]
  },
  {
   "cell_type": "code",
   "execution_count": null,
   "id": "2255b33f",
   "metadata": {},
   "outputs": [],
   "source": [
    "scaler.inverse_transform(mini_batch.cluster_centers_)"
   ]
  },
  {
   "cell_type": "code",
   "execution_count": null,
   "id": "bcc8fc29",
   "metadata": {},
   "outputs": [],
   "source": [
    "# perform predictions and assign clusters\n",
    "\n",
    "location_subset = df_final[df_final.columns[1:]]\n",
    "\n",
    "location_subset\n"
   ]
  },
  {
   "cell_type": "code",
   "execution_count": null,
   "id": "768733c8",
   "metadata": {},
   "outputs": [],
   "source": [
    "# scale the input data\n",
    "\n",
    "scaled_location_subset = scaler.transform(location_subset)\n",
    "\n",
    "scaled_location_subset"
   ]
  },
  {
   "cell_type": "code",
   "execution_count": null,
   "id": "8a1e0158",
   "metadata": {},
   "outputs": [],
   "source": [
    "# get the cluster predictions\n",
    "\n",
    "cluster_predictions = mini_batch.predict(scaled_location_subset)\n",
    "\n",
    "cluster_predictions.shape"
   ]
  },
  {
   "cell_type": "code",
   "execution_count": null,
   "id": "c23300e2",
   "metadata": {},
   "outputs": [],
   "source": [
    "# save the cluster predictions in data\n",
    "\n",
    "df_final['region'] = cluster_predictions\n",
    "\n",
    "df_final"
   ]
  },
  {
   "cell_type": "code",
   "execution_count": null,
   "id": "d34992c2",
   "metadata": {},
   "outputs": [],
   "source": [
    "# drop the latitude and logitude columns from data\n",
    "\n",
    "time_series_data = df_final.drop(columns=[\"pickup_latitude\",\"pickup_longitude\"])\n",
    "\n",
    "time_series_data"
   ]
  },
  {
   "cell_type": "code",
   "execution_count": null,
   "id": "9150f599",
   "metadata": {},
   "outputs": [],
   "source": [
    "# save the time series data\n",
    "\n",
    "save_path = \"../data/interim/time_series.csv\"\n",
    "\n",
    "time_series_data.to_csv(save_path, index=False)"
   ]
  },
  {
   "cell_type": "code",
   "execution_count": null,
   "id": "9295de90",
   "metadata": {},
   "outputs": [],
   "source": [
    "time_series_data.dtypes"
   ]
  },
  {
   "cell_type": "code",
   "execution_count": null,
   "id": "32c848bb",
   "metadata": {},
   "outputs": [],
   "source": [
    "# set the time series as the index\n",
    "\n",
    "time_series_data.set_index('tpep_pickup_datetime', inplace=True)\n",
    "\n",
    "time_series_data"
   ]
  },
  {
   "cell_type": "code",
   "execution_count": null,
   "id": "4246508a",
   "metadata": {},
   "outputs": [],
   "source": [
    "# group the time series data based on regions\n",
    "\n",
    "region_grp = time_series_data.groupby(\"region\")\n",
    "\n",
    "region_grp"
   ]
  },
  {
   "cell_type": "code",
   "execution_count": null,
   "id": "cd0449e5",
   "metadata": {},
   "outputs": [],
   "source": [
    "# check for missing values\n",
    "\n",
    "time_series_data.isna().sum()"
   ]
  },
  {
   "cell_type": "code",
   "execution_count": null,
   "id": "f0b1360e",
   "metadata": {},
   "outputs": [],
   "source": [
    "\n",
    "# resample the time series in 15 minute intervals\n",
    "\n",
    "resampled_data = (\n",
    "    region_grp['region']\n",
    "    .resample(\"15min\")\n",
    "    .count()\n",
    ")\n",
    "\n",
    "resampled_data"
   ]
  },
  {
   "cell_type": "code",
   "execution_count": null,
   "id": "b1ad56ae",
   "metadata": {},
   "outputs": [],
   "source": [
    "resampled_data.name = \"total_pickups\""
   ]
  },
  {
   "cell_type": "code",
   "execution_count": null,
   "id": "c03f7b34",
   "metadata": {},
   "outputs": [],
   "source": [
    "resampled_data = resampled_data.reset_index(level=0)\n",
    "\n",
    "resampled_data"
   ]
  },
  {
   "cell_type": "code",
   "execution_count": null,
   "id": "d0e285d5",
   "metadata": {},
   "outputs": [],
   "source": [
    "# zeros in the data\n",
    "\n",
    "(resampled_data['total_pickups'] == 0).sum()"
   ]
  },
  {
   "cell_type": "code",
   "execution_count": null,
   "id": "37427d91",
   "metadata": {},
   "outputs": [],
   "source": [
    "epsilon_val = 10\n",
    "\n",
    "resampled_data.replace({'total_pickups': {0 : epsilon_val}}, inplace=True)"
   ]
  },
  {
   "cell_type": "code",
   "execution_count": null,
   "id": "fcf37f8d",
   "metadata": {},
   "outputs": [],
   "source": [
    "(resampled_data['total_pickups'] == 0).sum()"
   ]
  },
  {
   "cell_type": "code",
   "execution_count": null,
   "id": "9b62a572",
   "metadata": {},
   "outputs": [],
   "source": [
    "from sklearn.metrics import mean_absolute_percentage_error"
   ]
  },
  {
   "cell_type": "code",
   "execution_count": null,
   "id": "8a64df9a",
   "metadata": {},
   "outputs": [],
   "source": [
    "window_values = list(range(3,11,1))\n",
    "window_values"
   ]
  },
  {
   "cell_type": "code",
   "execution_count": null,
   "id": "6010bedf",
   "metadata": {},
   "outputs": [],
   "source": [
    "def calculate_best_window_value(windows):\n",
    "    for window in windows:\n",
    "        ind = window - 1\n",
    "        y_pred = resampled_data['total_pickups'].rolling(window=window).mean().values[ind:]\n",
    "        y = resampled_data['total_pickups'].values[ind:]\n",
    "        error = mean_absolute_percentage_error(y, y_pred)\n",
    "        print(f\"For window value {window}, the MAPE is {error:.2f}\")"
   ]
  },
  {
   "cell_type": "code",
   "execution_count": null,
   "id": "306f242d",
   "metadata": {},
   "outputs": [],
   "source": [
    "calculate_best_window_value(window_values)"
   ]
  },
  {
   "cell_type": "code",
   "execution_count": null,
   "id": "1568ab74",
   "metadata": {},
   "outputs": [],
   "source": [
    "resampled_data['total_pickups'].ewm(alpha=0.9).mean()"
   ]
  },
  {
   "cell_type": "code",
   "execution_count": null,
   "id": "4b8a6bf9",
   "metadata": {},
   "outputs": [],
   "source": [
    "smoothing_values = np.arange(0.2,1,0.1)\n",
    "smoothing_values"
   ]
  },
  {
   "cell_type": "code",
   "execution_count": null,
   "id": "b7aff9f8",
   "metadata": {},
   "outputs": [],
   "source": [
    "def calculate_best_smoothing_value(values):\n",
    "    y = resampled_data['total_pickups'].values\n",
    "    for value in values:\n",
    "        y_pred = resampled_data['total_pickups'].ewm(alpha=value).mean()\n",
    "        error = mean_absolute_percentage_error(y, y_pred)\n",
    "        print(f\"For smoothing value {value:.1f}, the MAPE is {error:.2f}\")"
   ]
  },
  {
   "cell_type": "code",
   "execution_count": null,
   "id": "176e4bce",
   "metadata": {},
   "outputs": [],
   "source": [
    "calculate_best_smoothing_value(smoothing_values)"
   ]
  },
  {
   "cell_type": "code",
   "execution_count": null,
   "id": "d435e05d",
   "metadata": {},
   "outputs": [],
   "source": [
    "# dataset with pickup smoothing applied\n",
    "\n",
    "resampled_data[\"avg_pickups\"] = resampled_data['total_pickups'].ewm(alpha=0.4).mean().round()\n",
    "\n",
    "resampled_data"
   ]
  },
  {
   "cell_type": "code",
   "execution_count": null,
   "id": "d90bf817",
   "metadata": {},
   "outputs": [],
   "source": [
    "# save the resampled data\n",
    "\n",
    "resampled_data_save_path = \"../data/interim/final_data.csv\"\n",
    "\n",
    "resampled_data.to_csv(resampled_data_save_path, index=True)"
   ]
  },
  {
   "cell_type": "code",
   "execution_count": null,
   "id": "6671e40c",
   "metadata": {},
   "outputs": [],
   "source": [
    "# shape of the data\n",
    "\n",
    "resampled_data.shape"
   ]
  },
  {
   "cell_type": "code",
   "execution_count": null,
   "id": "5b58d4ed",
   "metadata": {},
   "outputs": [],
   "source": []
  },
  {
   "cell_type": "code",
   "execution_count": null,
   "id": "34cc1009",
   "metadata": {},
   "outputs": [],
   "source": []
  },
  {
   "cell_type": "code",
   "execution_count": null,
   "id": "a7153ae8",
   "metadata": {},
   "outputs": [],
   "source": []
  }
 ],
 "metadata": {
  "kernelspec": {
   "display_name": "myenv",
   "language": "python",
   "name": "python3"
  },
  "language_info": {
   "codemirror_mode": {
    "name": "ipython",
    "version": 3
   },
   "file_extension": ".py",
   "mimetype": "text/x-python",
   "name": "python",
   "nbconvert_exporter": "python",
   "pygments_lexer": "ipython3",
   "version": "3.13.3"
  }
 },
 "nbformat": 4,
 "nbformat_minor": 5
}
