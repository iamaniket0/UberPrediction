{
 "cells": [
  {
   "cell_type": "code",
   "execution_count": null,
   "id": "9604570c",
   "metadata": {},
   "outputs": [],
   "source": [
    "import pandas as pd\n",
    "import numpy as np\n",
    "import matplotlib.pyplot as plt\n",
    "import seaborn as sns\n",
    "import dask.dataframe as dd"
   ]
  },
  {
   "cell_type": "code",
   "execution_count": null,
   "id": "5349b653",
   "metadata": {},
   "outputs": [],
   "source": [
    "# paths for the three dfs\n",
    "\n",
    "df_jan_path = \"/Users/aniket_ml/Documents/data/yellow_tripdata_2016-01.csv\"\n",
    "df_feb_path = \"/Users/aniket_ml/Documents/data/yellow_tripdata_2016-02.csv\"\n",
    "df_mar_path = \"/Users/aniket_ml/Documents/data/yellow_tripdata_2016-03.csv\"\n",
    "\n",
    "# load the dataframes\n",
    "import dask.dataframe as dd\n",
    "\n",
    "df_jan = dd.read_csv(df_jan_path, assume_missing=True)\n",
    "df_feb = dd.read_csv(df_feb_path, assume_missing=True)\n",
    "df_mar = dd.read_csv(df_mar_path, assume_missing=True)"
   ]
  },
  {
   "cell_type": "code",
   "execution_count": null,
   "id": "988a8b00",
   "metadata": {},
   "outputs": [],
   "source": [
    "df_jan"
   ]
  },
  {
   "cell_type": "code",
   "execution_count": null,
   "id": "652ecc3a",
   "metadata": {},
   "outputs": [],
   "source": [
    "# concat the three dataframes as one\n",
    "\n",
    "df_final = dd.concat([df_jan, df_feb, df_mar], axis=0)"
   ]
  },
  {
   "cell_type": "code",
   "execution_count": null,
   "id": "a29ca879",
   "metadata": {},
   "outputs": [],
   "source": [
    "# set the values of coordinates\n",
    "\n",
    "min_latitude = 40.60\n",
    "max_latitude = 40.85\n",
    "min_longitude = -74.05\n",
    "max_longitude = -73.70"
   ]
  },
  {
   "cell_type": "code",
   "execution_count": null,
   "id": "55037789",
   "metadata": {},
   "outputs": [],
   "source": [
    "# fare amount column\n",
    "fare_amount = df_final[\"fare_amount\"].compute()\n",
    "\n",
    "# trip distance column\n",
    "trip_distance = df_final[\"trip_distance\"].compute()"
   ]
  },
  {
   "cell_type": "code",
   "execution_count": null,
   "id": "dcfb16cb",
   "metadata": {},
   "outputs": [],
   "source": [
    "fare_amount.shape[0] / 10000000"
   ]
  },
  {
   "cell_type": "code",
   "execution_count": null,
   "id": "47ba34c8",
   "metadata": {},
   "outputs": [],
   "source": [
    "# percentile values for fare amount\n",
    "\n",
    "percentile_values = np.arange(0.991,1.000, 0.001)\n",
    "percentile_values\n",
    "\n",
    "fare_amount.quantile(percentile_values)"
   ]
  },
  {
   "cell_type": "code",
   "execution_count": null,
   "id": "f34a2011",
   "metadata": {},
   "outputs": [],
   "source": [
    "max_fare_amount_val = fare_amount.quantile(percentile_values).iloc[-2].item()\n",
    "min_fare_amount_val = 0.50\n",
    "\n",
    "print(min_fare_amount_val)\n",
    "print(max_fare_amount_val)"
   ]
  },
  {
   "cell_type": "code",
   "execution_count": null,
   "id": "b7a142a9",
   "metadata": {},
   "outputs": [],
   "source": [
    "trip_distance.quantile(percentile_values)"
   ]
  },
  {
   "cell_type": "code",
   "execution_count": null,
   "id": "72653da8",
   "metadata": {},
   "outputs": [],
   "source": [
    "# percentile values for trip_distance\n",
    "\n",
    "min_trip_distance_val = 0.25\n",
    "max_trip_distance_val = trip_distance.quantile(percentile_values).iloc[-2].item()\n",
    "\n",
    "print(min_trip_distance_val)\n",
    "print(max_trip_distance_val)"
   ]
  },
  {
   "cell_type": "code",
   "execution_count": null,
   "id": "9c9342f8",
   "metadata": {},
   "outputs": [],
   "source": [
    "# select data points within the given ranges\n",
    "\n",
    "df_final = df_final.loc[(df_final[\"pickup_latitude\"].between(min_latitude, max_latitude, inclusive=\"both\")) & \n",
    "(df_final[\"pickup_longitude\"].between(min_longitude, max_longitude, inclusive=\"both\")) & \n",
    "(df_final[\"dropoff_latitude\"].between(min_latitude, max_latitude, inclusive=\"both\")) & \n",
    "(df_final[\"dropoff_longitude\"].between(min_longitude, max_longitude, inclusive=\"both\")), :]"
   ]
  },
  {
   "cell_type": "code",
   "execution_count": null,
   "id": "a4d1f0a1",
   "metadata": {},
   "outputs": [],
   "source": [
    "df_final = df_final.loc[(df_final[\"fare_amount\"].between(min_fare_amount_val,max_fare_amount_val,inclusive=\"both\")) & \n",
    "(df_final[\"trip_distance\"].between(min_trip_distance_val,max_trip_distance_val,inclusive=\"both\"))]"
   ]
  },
  {
   "cell_type": "code",
   "execution_count": null,
   "id": "aabfc1ee",
   "metadata": {},
   "outputs": [],
   "source": [
    "# make a subset of location based columns\n",
    "\n",
    "location_subset = df_final[['pickup_latitude','pickup_longitude', \n",
    "                           'dropoff_latitude','dropoff_longitude']]\n",
    "\n",
    "location_subset"
   ]
  },
  {
   "cell_type": "code",
   "execution_count": null,
   "id": "0ead8bdf",
   "metadata": {},
   "outputs": [],
   "source": [
    "# boxplots for location based columns\n",
    "\n",
    "fig, (ax1, ax2) = plt.subplots(nrows=2, ncols=2, figsize=(12,5))\n",
    "for i in range(4):\n",
    "    if i <= 1:\n",
    "        # plot the boxplot\n",
    "        sns.boxplot(y=location_subset.iloc[:,i].compute(),ax=ax1[i],whis=3)\n",
    "    else:\n",
    "        # plot the boxplot\n",
    "        sns.boxplot(y=location_subset.iloc[:,i].compute(),ax=ax2[i - 2],whis=3)"
   ]
  },
  {
   "cell_type": "code",
   "execution_count": null,
   "id": "19aca60d",
   "metadata": {},
   "outputs": [],
   "source": [
    "# boxplot for the trip distance\n",
    "\n",
    "sns.boxplot(df_final.loc[:,\"trip_distance\"].compute(), whis=3)"
   ]
  },
  {
   "cell_type": "code",
   "execution_count": null,
   "id": "6b521aca",
   "metadata": {},
   "outputs": [],
   "source": [
    "# boxplot for the fare amount\n",
    "\n",
    "sns.boxplot(df_final.loc[:,\"fare_amount\"].compute(), whis=3)"
   ]
  },
  {
   "cell_type": "code",
   "execution_count": null,
   "id": "e87f6e50",
   "metadata": {},
   "outputs": [],
   "source": [
    "# save the pickup coordinates dataset\n",
    "\n",
    "save_path = \"../data/interim/location_data.csv\"\n",
    "\n",
    "pickup_coord_dataset = df_final.loc[:,['pickup_latitude','pickup_longitude']]"
   ]
  },
  {
   "cell_type": "code",
   "execution_count": null,
   "id": "59a39bb5",
   "metadata": {},
   "outputs": [],
   "source": [
    "import os\n",
    "os.environ[\"PATH\"] += os.pathsep + \"/opt/homebrew/bin\"\n"
   ]
  },
  {
   "cell_type": "code",
   "execution_count": null,
   "id": "cc02e1e9",
   "metadata": {},
   "outputs": [],
   "source": [
    "\n",
    "# import dask.dataframe as dd\n",
    "\n",
    "# pickup_coord_dataset = dd.from_pandas(pickup_coord_dataset, npartitions=4)\n",
    "pickup_coord_dataset.visualize()"
   ]
  },
  {
   "cell_type": "code",
   "execution_count": null,
   "id": "3bd328ee",
   "metadata": {},
   "outputs": [],
   "source": [
    "# form the dataset\n",
    "\n",
    "pickup_coord_dataset = df_final.loc[:,['pickup_latitude','pickup_longitude']].compute()\n",
    "\n",
    "print(\"Shape of the dataset is \", pickup_coord_dataset.shape)"
   ]
  },
  {
   "cell_type": "code",
   "execution_count": null,
   "id": "09ccc5dc",
   "metadata": {},
   "outputs": [],
   "source": [
    "pickup_coord_dataset"
   ]
  },
  {
   "cell_type": "code",
   "execution_count": null,
   "id": "b89cc18a",
   "metadata": {},
   "outputs": [],
   "source": [
    "# save the dataset\n",
    "\n",
    "pickup_coord_dataset.to_csv(save_path, index=False)"
   ]
  },
  {
   "cell_type": "code",
   "execution_count": null,
   "id": "4cb9d7d3",
   "metadata": {},
   "outputs": [],
   "source": []
  },
  {
   "cell_type": "code",
   "execution_count": null,
   "id": "0df7fec8",
   "metadata": {},
   "outputs": [],
   "source": []
  },
  {
   "cell_type": "code",
   "execution_count": null,
   "id": "0783fcc8",
   "metadata": {},
   "outputs": [],
   "source": []
  },
  {
   "cell_type": "code",
   "execution_count": null,
   "id": "9c3a5ab3",
   "metadata": {},
   "outputs": [],
   "source": []
  },
  {
   "cell_type": "code",
   "execution_count": null,
   "id": "535d5bbd",
   "metadata": {},
   "outputs": [],
   "source": []
  }
 ],
 "metadata": {
  "kernelspec": {
   "display_name": "myenv",
   "language": "python",
   "name": "python3"
  },
  "language_info": {
   "codemirror_mode": {
    "name": "ipython",
    "version": 3
   },
   "file_extension": ".py",
   "mimetype": "text/x-python",
   "name": "python",
   "nbconvert_exporter": "python",
   "pygments_lexer": "ipython3",
   "version": "3.13.3"
  }
 },
 "nbformat": 4,
 "nbformat_minor": 5
}
